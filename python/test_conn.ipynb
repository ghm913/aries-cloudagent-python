{
 "cells": [
  {
   "cell_type": "code",
   "execution_count": 1,
   "id": "38bc03e0-f65c-4345-96a7-b4cb04321983",
   "metadata": {},
   "outputs": [
    {
     "name": "stdout",
     "output_type": "stream",
     "text": [
      "Deleted connection 52fd51e5-9ba4-4f11-b59c-e3882faa9748: 200\n",
      "Deleted connection adc69e3b-a532-4285-ac79-7e2cec0517a9: 200\n"
     ]
    }
   ],
   "source": [
    "import requests\n",
    "import time\n",
    "\n",
    "# Define the base URLs for Anton and Bob\n",
    "anton_base_url = \"http://localhost:8021\"\n",
    "\n",
    "# Helper function to handle responses\n",
    "def handle_response(response):\n",
    "    response.raise_for_status()  # Raise an exception for HTTP errors\n",
    "    return response.json()\n",
    "\n",
    "# 1. Get Anton's connections\n",
    "anton_connections_url = f\"{anton_base_url}/connections\"\n",
    "anton_connections_response = requests.get(anton_connections_url, headers={\"Accept\": \"application/json\"})\n",
    "anton_connections = handle_response(anton_connections_response)[\"results\"]\n",
    "\n",
    "# Delete each connection\n",
    "for connection in anton_connections:\n",
    "    connection_id = connection[\"connection_id\"]\n",
    "    delete_url = f\"{anton_base_url}/connections/{connection_id}\"\n",
    "    delete_response = requests.delete(delete_url, headers={\"Content-Type\": \"application/json\"})\n",
    "    print(f\"Deleted connection {connection_id}: {delete_response.status_code}\")\n",
    "    time.sleep(1)  # Wait for a short period to ensure the deletion is processed\n",
    "\n",
    "# 4. Anton retrieves the connection request\n",
    "# anton_pending_connections_url = f\"{anton_base_url}/connections?state=request\"\n",
    "# anton_pending_connections_response = requests.get(anton_pending_connections_url, headers={\"Accept\": \"application/json\"})\n",
    "# anton_connection_id = handle_response(anton_pending_connections_response)[\"results\"][0][\"connection_id\"]\n",
    "\n",
    "# # 5. Anton accepts the connection request\n",
    "# anton_accept_request_url = f\"{anton_base_url}/didexchange/{anton_connection_id}/accept-request\"\n",
    "# anton_accept_request_response = requests.post(anton_accept_request_url, headers={\"Content-Type\": \"application/json\"})\n",
    "# handle_response(anton_accept_request_response)\n",
    "\n",
    "# # # Wait for the connection state to become active\n",
    "# time.sleep(2)  # Wait for a short period to ensure the state is updated"
   ]
  },
  {
   "cell_type": "code",
   "execution_count": null,
   "id": "0ecf470f",
   "metadata": {},
   "outputs": [],
   "source": [
    "#bob part\n",
    "bob_base_url = \"http://localhost:8031\"\n",
    "# 1. Get Bob's connections\n",
    "bob_connections_url = f\"{bob_base_url}/connections\"\n",
    "bob_connections_response = requests.get(bob_connections_url, headers={\"Accept\": \"application/json\"})\n",
    "bob_connections = handle_response(bob_connections_response)\n",
    "\n",
    "# 2. Bob sends a connection request to Anton\n",
    "bob_create_request_url = f\"{bob_base_url}/didexchange/create-request?their_public_did=NyaE9SFSneSNRq6Ch8N9Pt&alias=Anton\"\n",
    "bob_create_request_response = requests.post(bob_create_request_url, headers={\"Accept\": \"application/json\"})\n",
    "bob_connection_id = handle_response(bob_create_request_response)[\"connection_id\"]\n",
    "\n",
    "# Wait for the connection request to appear in Anton's connections\n",
    "time.sleep(2)  # Wait for a short period to ensure the request is processed"
   ]
  }
 ],
 "metadata": {
  "kernelspec": {
   "display_name": "Python 3 (ipykernel)",
   "language": "python",
   "name": "python3"
  },
  "language_info": {
   "codemirror_mode": {
    "name": "ipython",
    "version": 3
   },
   "file_extension": ".py",
   "mimetype": "text/x-python",
   "name": "python",
   "nbconvert_exporter": "python",
   "pygments_lexer": "ipython3",
   "version": "3.11.7"
  }
 },
 "nbformat": 4,
 "nbformat_minor": 5
}
